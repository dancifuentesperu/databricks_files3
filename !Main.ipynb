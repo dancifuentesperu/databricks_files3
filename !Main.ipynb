{
 "cells": [
  {
   "cell_type": "code",
   "execution_count": 0,
   "metadata": {
    "application/vnd.databricks.v1+cell": {
     "cellMetadata": {
      "byteLimit": 2048000,
      "rowLimit": 10000
     },
     "inputWidgets": {},
     "nuid": "e0a34e59-d7f9-4c17-9cd4-5d88cf55068f",
     "showTitle": false,
     "tableResultSettingsMap": {},
     "title": ""
    }
   },
   "outputs": [],
   "source": [
    "###############################################\n",
    "#          Author: Daniel Cifuentes           #\n",
    "#          Last update: 22/06/2025            #\n",
    "###############################################\n",
    "\n",
    "# Definir las variables de acuerdo al usuario creado\n",
    "# Descargar los archivos python del github y ejecutar los otros notebook para crear los ambientes\n",
    "\n",
    "workspace_folder       = \"lab4\"\n"
   ]
  },
  {
   "cell_type": "code",
   "execution_count": 0,
   "metadata": {
    "application/vnd.databricks.v1+cell": {
     "cellMetadata": {
      "byteLimit": 2048000,
      "rowLimit": 10000
     },
     "inputWidgets": {},
     "nuid": "8a8a3643-649b-4448-9b61-914a470537aa",
     "showTitle": false,
     "tableResultSettingsMap": {},
     "title": ""
    }
   },
   "outputs": [],
   "source": [
    "mkdir /Workspace/{workspace_folder}/"
   ]
  },
  {
   "cell_type": "code",
   "execution_count": 0,
   "metadata": {
    "application/vnd.databricks.v1+cell": {
     "cellMetadata": {
      "byteLimit": 2048000,
      "rowLimit": 10000
     },
     "inputWidgets": {},
     "nuid": "c3ad1ca5-f254-49e5-acb9-ca1f6d4ab350",
     "showTitle": false,
     "tableResultSettingsMap": {},
     "title": ""
    }
   },
   "outputs": [
    {
     "output_type": "stream",
     "name": "stdout",
     "output_type": "stream",
     "text": [
      "\uD83D\uDCC4 Descargando archivo .py: !Main.py\n✅ Guardado en: /Workspace/lab4/!Main.py\n\uD83D\uDCC4 Descargando archivo .py: 0.Catalogs.py\n✅ Guardado en: /Workspace/lab4/0.Catalogs.py\n\uD83D\uDCC4 Descargando archivo .py: 1.Files.py\n✅ Guardado en: /Workspace/lab4/1.Files.py\n\uD83D\uDCC4 Descargando archivo .py: 2.Tables.py\n✅ Guardado en: /Workspace/lab4/2.Tables.py\n\uD83D\uDCC4 Descargando archivo .py: 3. Processing raw to bronce layer.py\n✅ Guardado en: /Workspace/lab4/3. Processing raw to bronce layer.py\n"
     ]
    }
   ],
   "source": [
    "import requests\n",
    "import os\n",
    "\n",
    "# ✅ Variables de tu entorno\n",
    "catalog_name = \"integration_catalog\"\n",
    "schema_name_raw = \"raw_files\"\n",
    "volume_name_tmp = \"tmp\"\n",
    "\n",
    "# \uD83D\uDD17 Repositorio GitHub\n",
    "github_user = \"dancifuentesperu\"\n",
    "repo_name = \"databricks_files\"\n",
    "branch = \"main\"\n",
    "\n",
    "# \uD83D\uDD27 Ruta destino en Volume UC\n",
    "volume_path = f\"/Workspace/{workspace_folder}\"\n",
    "\n",
    "# \uD83C\uDF10 GitHub API para listar archivos del repo\n",
    "api_url = f\"https://api.github.com/repos/{github_user}/{repo_name}/git/trees/{branch}?recursive=1\"\n",
    "\n",
    "# \uD83D\uDCE5 Obtener lista de archivos\n",
    "response = requests.get(api_url)\n",
    "response.raise_for_status()\n",
    "tree = response.json().get(\"tree\", [])\n",
    "\n",
    "# \uD83D\uDD01 Descargar y guardar solo los archivos .py\n",
    "for item in tree:\n",
    "    if item[\"type\"] == \"blob\" and item[\"path\"].endswith(\".py\"):\n",
    "        file_path = item[\"path\"]\n",
    "        print(f\"\uD83D\uDCC4 Descargando archivo .py: {file_path}\")\n",
    "        \n",
    "        # Construir URL RAW de GitHub\n",
    "        raw_url = f\"https://raw.githubusercontent.com/{github_user}/{repo_name}/{branch}/{file_path}\"\n",
    "        \n",
    "        # Descargar el archivo\n",
    "        r = requests.get(raw_url)\n",
    "        if r.status_code != 200:\n",
    "            print(f\"❌ Error al descargar: {raw_url}\")\n",
    "            continue\n",
    "\n",
    "        # Guardar en la ruta del volumen\n",
    "        tmp_filename = os.path.basename(file_path)\n",
    "        local_tmp_path = f\"{volume_path}/{tmp_filename}\"\n",
    "        \n",
    "        with open(local_tmp_path, \"wb\") as f:\n",
    "            f.write(r.content)\n",
    "\n",
    "        print(f\"✅ Guardado en: {local_tmp_path}\")"
   ]
  },
  {
   "cell_type": "code",
   "execution_count": 0,
   "metadata": {
    "application/vnd.databricks.v1+cell": {
     "cellMetadata": {
      "byteLimit": 2048000,
      "rowLimit": 10000
     },
     "inputWidgets": {},
     "nuid": "69762b28-fe98-4891-9a8c-305f76160ccf",
     "showTitle": false,
     "tableResultSettingsMap": {},
     "title": ""
    }
   },
   "outputs": [],
   "source": [
    "result = dbutils.notebook.run(\n",
    "    f\"/Workspace/{workspace_folder}/0.Catalogs\",\n",
    "    300  # tiempo máximo de ejecución en segundos\n",
    ")\n",
    "\n",
    "result = dbutils.notebook.run(\n",
    "    f\"/Workspace/{workspace_folder}/1.Files\",\n",
    "    300  # tiempo máximo de ejecución en segundos\n",
    ")\n",
    "\n",
    "result = dbutils.notebook.run(\n",
    "    f\"/Workspace/{workspace_folder}/2.Tables\",\n",
    "    300  # tiempo máximo de ejecución en segundos\n",
    ")"
   ]
  }
 ],
 "metadata": {
  "application/vnd.databricks.v1+notebook": {
   "computePreferences": null,
   "dashboards": [],
   "environmentMetadata": {
    "base_environment": "",
    "environment_version": "2"
   },
   "inputWidgetPreferences": null,
   "language": "python",
   "notebookMetadata": {
    "pythonIndentUnit": 4
   },
   "notebookName": "!Main",
   "widgets": {}
  },
  "language_info": {
   "name": "python"
  }
 },
 "nbformat": 4,
 "nbformat_minor": 0
}