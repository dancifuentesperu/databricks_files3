{
 "cells": [
  {
   "cell_type": "code",
   "execution_count": 0,
   "metadata": {
    "application/vnd.databricks.v1+cell": {
     "cellMetadata": {
      "byteLimit": 2048000,
      "rowLimit": 10000
     },
     "inputWidgets": {},
     "nuid": "bc357087-32e2-43c8-97d3-79722cc5d23f",
     "showTitle": false,
     "tableResultSettingsMap": {},
     "title": ""
    }
   },
   "outputs": [],
   "source": [
    "###############################################\n",
    "#          Author: Daniel Cifuentes           #\n",
    "#          Last update: 22/06/2025            #\n",
    "###############################################\n",
    "\n",
    "# Definir nombres de catalog, schema, volume \n",
    "\n",
    "catalog_name        = \"integration_catalog\"\n",
    "schema_name_raw     = \"raw_files\"\n",
    "volume_name_raw     = \"files\"\n",
    "volume_name_tmp     = \"tmp\"\n",
    "schema_name_tables  = \"raw_tables\"\n",
    "\n",
    "# BRONZE\n",
    "schema_name_bronze  = \"bronze_layer\"\n",
    "table_name_bronze   = \"titanic_bronze\"\n",
    "# SILVER\n",
    "schema_name_silver  = \"silver_layer\"\n",
    "table_name_silver   = \"titanic_silver\"\n",
    "# GOLD\n",
    "schema_name_gold  = \"gold_layer\"\n",
    "table_name_gold   = \"titanic_gold\"\n",
    "\n",
    "# schema \n",
    "workspace_folder       = \"lab4\"\n"
   ]
  },
  {
   "cell_type": "code",
   "execution_count": 0,
   "metadata": {
    "application/vnd.databricks.v1+cell": {
     "cellMetadata": {
      "byteLimit": 2048000,
      "implicitDf": true,
      "rowLimit": 10000
     },
     "inputWidgets": {},
     "nuid": "6b621953-0b14-4275-8b09-5aa7a854c2c0",
     "showTitle": false,
     "tableResultSettingsMap": {},
     "title": ""
    }
   },
   "outputs": [
    {
     "output_type": "execute_result",
     "data": {
      "text/plain": [
       "DataFrame[]"
      ]
     },
     "execution_count": 3,
     "metadata": {},
     "output_type": "execute_result"
    }
   ],
   "source": [
    "# Crear catálogo\n",
    "spark.sql(f\"\"\"\n",
    "CREATE CATALOG IF NOT EXISTS {catalog_name}\n",
    "\"\"\")\n",
    "\n",
    "# Crear schemas\n",
    "spark.sql(f\"\"\"\n",
    "CREATE SCHEMA IF NOT EXISTS {catalog_name}.{schema_name_raw}\n",
    "\"\"\")\n",
    "\n",
    "spark.sql(f\"\"\"\n",
    "CREATE SCHEMA IF NOT EXISTS {catalog_name}.{schema_name_tables}\n",
    "\"\"\")\n",
    "\n",
    "# Crear volumen\n",
    "spark.sql(f\"\"\"\n",
    "CREATE VOLUME IF NOT EXISTS {catalog_name}.{schema_name_raw}.{volume_name_raw}\n",
    "\"\"\")\n",
    "\n",
    "# Crear volumen tmp\n",
    "spark.sql(f\"\"\"\n",
    "CREATE VOLUME IF NOT EXISTS {catalog_name}.{schema_name_raw}.{volume_name_tmp}\n",
    "\"\"\")"
   ]
  },
  {
   "cell_type": "code",
   "execution_count": 0,
   "metadata": {
    "application/vnd.databricks.v1+cell": {
     "cellMetadata": {
      "byteLimit": 2048000,
      "rowLimit": 10000
     },
     "inputWidgets": {},
     "nuid": "f73ba7f0-9544-4497-afbb-c31dbc35f4c1",
     "showTitle": false,
     "tableResultSettingsMap": {},
     "title": ""
    }
   },
   "outputs": [
    {
     "output_type": "execute_result",
     "data": {
      "text/plain": [
       "DataFrame[]"
      ]
     },
     "execution_count": 4,
     "metadata": {},
     "output_type": "execute_result"
    }
   ],
   "source": [
    "## Crear los esquemas de bronze, silver y gold \n",
    "\n",
    "## Este script llevar al main \n",
    "## Creación de esquemas Bronze, silver y gold \n",
    "\n",
    "full_schema_path_bronze = f\"{catalog_name}.{schema_name_bronze}\"\n",
    "full_schema_path_silver = f\"{catalog_name}.{schema_name_silver}\"\n",
    "full_schema_path_gold   = f\"{catalog_name}.{schema_name_gold}\"\n",
    "\n",
    "spark.sql(f\"CREATE SCHEMA IF NOT EXISTS {full_schema_path_bronze}\")\n",
    "spark.sql(f\"CREATE SCHEMA IF NOT EXISTS {full_schema_path_silver}\")\n",
    "spark.sql(f\"CREATE SCHEMA IF NOT EXISTS {full_schema_path_gold}\")"
   ]
  },
  {
   "cell_type": "code",
   "execution_count": 0,
   "metadata": {
    "application/vnd.databricks.v1+cell": {
     "cellMetadata": {
      "byteLimit": 2048000,
      "implicitDf": true,
      "rowLimit": 10000
     },
     "inputWidgets": {},
     "nuid": "b144615c-9863-42c7-b7c6-b604a071ee3d",
     "showTitle": false,
     "tableResultSettingsMap": {},
     "title": ""
    }
   },
   "outputs": [
    {
     "output_type": "stream",
     "name": "stdout",
     "output_type": "stream",
     "text": [
      "+---------+-----------+\n| database|volume_name|\n+---------+-----------+\n|raw_files|      files|\n|raw_files|        tmp|\n+---------+-----------+\n\n+-------------------------+--------------------------+\n|database_description_item|database_description_value|\n+-------------------------+--------------------------+\n|             Catalog Name|       integration_catalog|\n|           Namespace Name|                 raw_files|\n|                  Comment|                          |\n|                 Location|                          |\n|                    Owner|      rosario.rojas.cpc...|\n+-------------------------+--------------------------+\n\n+----------+--------------------+-----------+\n|  database|           tableName|isTemporary|\n+----------+--------------------+-----------+\n|raw_tables|       flights_table|      false|\n|raw_tables|       titanic_table|      false|\n|raw_tables|titanic_table_for...|      false|\n+----------+--------------------+-----------+\n\n"
     ]
    }
   ],
   "source": [
    "\n",
    "#Visualizar los volumes del schema \n",
    "df_vols_raw = spark.sql(f\"SHOW VOLUMES IN {catalog_name}.{schema_name_raw}\")\n",
    "df_vols_raw.show()\n",
    "\n",
    "# Describe schema \n",
    "df_schema_describe = spark.sql(f\"DESCRIBE SCHEMA {catalog_name}.{schema_name_raw}\")\n",
    "df_schema_describe.show()\n",
    "\n",
    "#Mostrar tablas del schema raw_tables \n",
    "df_tables = spark.sql(f\"SHOW TABLES IN {catalog_name}.{schema_name_tables}\")\n",
    "df_tables.show()"
   ]
  },
  {
   "cell_type": "code",
   "execution_count": 0,
   "metadata": {
    "application/vnd.databricks.v1+cell": {
     "cellMetadata": {
      "byteLimit": 2048000,
      "implicitDf": true,
      "rowLimit": 10000
     },
     "inputWidgets": {},
     "nuid": "91bda2f3-40fd-4f6d-9d19-9812b935404f",
     "showTitle": false,
     "tableResultSettingsMap": {},
     "title": ""
    }
   },
   "outputs": [
    {
     "output_type": "display_data",
     "data": {
      "text/html": [
       "<style scoped>\n",
       "  .table-result-container {\n",
       "    max-height: 300px;\n",
       "    overflow: auto;\n",
       "  }\n",
       "  table, th, td {\n",
       "    border: 1px solid black;\n",
       "    border-collapse: collapse;\n",
       "  }\n",
       "  th, td {\n",
       "    padding: 5px;\n",
       "  }\n",
       "  th {\n",
       "    text-align: left;\n",
       "  }\n",
       "</style><div class='table-result-container'><table class='table-result'><thead style='background-color: white'><tr><th>info_name</th><th>info_value</th></tr></thead><tbody><tr><td>Metastore ID</td><td>684d804b-7234-4172-a29f-7b55bbba5048</td></tr><tr><td>Metastore Name</td><td>metastore_aws_us_west_2</td></tr><tr><td>Owner</td><td>System user</td></tr><tr><td>Storage Root</td><td></td></tr><tr><td>Storage Root Credential ID</td><td></td></tr><tr><td>Storage Root Credential Name</td><td></td></tr><tr><td>Delta Sharing Scope</td><td>internal</td></tr><tr><td>Delta Sharing Recipient Token Lifetime in Seconds</td><td>0</td></tr><tr><td>Delta Sharing Organization Name</td><td></td></tr><tr><td>Privileged Model Version</td><td>1.0</td></tr><tr><td>Cloud</td><td>aws</td></tr><tr><td>Region</td><td>us-west-2</td></tr><tr><td>Global Metastore ID</td><td>aws:us-west-2:684d804b-7234-4172-a29f-7b55bbba5048</td></tr><tr><td>Created By</td><td>System user</td></tr><tr><td>Created At</td><td>1750549124817</td></tr><tr><td>Updated By</td><td>System user</td></tr><tr><td>Updated At</td><td>1750549124817</td></tr></tbody></table></div>"
      ]
     },
     "metadata": {
      "application/vnd.databricks.v1+output": {
       "addedWidgets": {},
       "aggData": [],
       "aggError": "",
       "aggOverflow": false,
       "aggSchema": [],
       "aggSeriesLimitReached": false,
       "aggType": "",
       "arguments": {},
       "columnCustomDisplayInfos": {},
       "data": [
        [
         "Metastore ID",
         "684d804b-7234-4172-a29f-7b55bbba5048"
        ],
        [
         "Metastore Name",
         "metastore_aws_us_west_2"
        ],
        [
         "Owner",
         "System user"
        ],
        [
         "Storage Root",
         ""
        ],
        [
         "Storage Root Credential ID",
         ""
        ],
        [
         "Storage Root Credential Name",
         ""
        ],
        [
         "Delta Sharing Scope",
         "internal"
        ],
        [
         "Delta Sharing Recipient Token Lifetime in Seconds",
         "0"
        ],
        [
         "Delta Sharing Organization Name",
         ""
        ],
        [
         "Privileged Model Version",
         "1.0"
        ],
        [
         "Cloud",
         "aws"
        ],
        [
         "Region",
         "us-west-2"
        ],
        [
         "Global Metastore ID",
         "aws:us-west-2:684d804b-7234-4172-a29f-7b55bbba5048"
        ],
        [
         "Created By",
         "System user"
        ],
        [
         "Created At",
         "1750549124817"
        ],
        [
         "Updated By",
         "System user"
        ],
        [
         "Updated At",
         "1750549124817"
        ]
       ],
       "datasetInfos": [
        {
         "name": "_sqldf",
         "schema": {
          "fields": [
           {
            "metadata": {},
            "name": "info_name",
            "nullable": false,
            "type": "string"
           },
           {
            "metadata": {},
            "name": "info_value",
            "nullable": false,
            "type": "string"
           }
          ],
          "type": "struct"
         },
         "tableIdentifier": null,
         "typeStr": "pyspark.sql.connect.dataframe.DataFrame"
        }
       ],
       "dbfsResultPath": null,
       "isJsonSchema": true,
       "metadata": {
        "createTempViewForImplicitDf": true,
        "dataframeName": "_sqldf",
        "executionCount": 6
       },
       "overflow": false,
       "plotOptions": {
        "customPlotOptions": {},
        "displayType": "table",
        "pivotAggregation": null,
        "pivotColumns": null,
        "xColumns": null,
        "yColumns": null
       },
       "removedWidgets": [],
       "schema": [
        {
         "metadata": "{}",
         "name": "info_name",
         "type": "\"string\""
        },
        {
         "metadata": "{}",
         "name": "info_value",
         "type": "\"string\""
        }
       ],
       "type": "table"
      }
     },
     "output_type": "display_data"
    }
   ],
   "source": [
    "%sql\n",
    "-- Nro 5\n",
    "DESCRIBE METASTORE"
   ]
  }
 ],
 "metadata": {
  "application/vnd.databricks.v1+notebook": {
   "computePreferences": null,
   "dashboards": [],
   "environmentMetadata": null,
   "inputWidgetPreferences": null,
   "language": "python",
   "notebookMetadata": {
    "mostRecentlyExecutedCommandWithImplicitDF": {
     "commandId": 4021964853252861,
     "dataframes": [
      "_sqldf"
     ]
    },
    "pythonIndentUnit": 4
   },
   "notebookName": "0.Catalogs",
   "widgets": {}
  },
  "language_info": {
   "name": "python"
  }
 },
 "nbformat": 4,
 "nbformat_minor": 0
}