{
 "cells": [
  {
   "cell_type": "code",
   "execution_count": 0,
   "metadata": {
    "application/vnd.databricks.v1+cell": {
     "cellMetadata": {},
     "inputWidgets": {},
     "nuid": "a512ff20-95ff-4d9e-9c67-02c3a56ebcc4",
     "showTitle": false,
     "tableResultSettingsMap": {},
     "title": ""
    }
   },
   "outputs": [],
   "source": [
    "###############################################\n",
    "#          Author: Daniel Cifuentes           #\n",
    "#          Last update: 22/06/2025            #\n",
    "###############################################\n",
    "\n",
    "# Definir nombres de catalog, schema, volume \n",
    "\n",
    "catalog_name        = \"integration_catalog\"\n",
    "schema_name_raw     = \"raw_files\"\n",
    "volume_name_raw     = \"files\"\n",
    "volume_name_tmp     = \"tmp\"\n",
    "schema_name_tables  = \"raw_tables\"\n",
    "workspace_folder       = \"lab4\""
   ]
  },
  {
   "cell_type": "code",
   "execution_count": 0,
   "metadata": {
    "application/vnd.databricks.v1+cell": {
     "cellMetadata": {
      "byteLimit": 2048000,
      "rowLimit": 10000
     },
     "inputWidgets": {},
     "nuid": "7f2841ff-a8fa-490a-9129-d0999827d5f0",
     "showTitle": false,
     "tableResultSettingsMap": {},
     "title": ""
    }
   },
   "outputs": [
    {
     "output_type": "stream",
     "name": "stdout",
     "output_type": "stream",
     "text": [
      "\uD83D\uDCC4 Descargando: 0.Catalogs.py\n\uD83D\uDCC4 Descargando: 1.Files.py\n\uD83D\uDCC4 Descargando: 2.Tables.py\n\uD83D\uDCC4 Descargando: README.md\n\uD83D\uDCC4 Descargando: flights.parquet\n\uD83D\uDCC4 Descargando: titanic.parquet\n"
     ]
    }
   ],
   "source": [
    "# Copia los archivos del repositorio GitHub a local_tmp_path\n",
    "import requests\n",
    "import os\n",
    "\n",
    "# ✅ Tus variables\n",
    "catalog_name = \"integration_catalog\"\n",
    "schema_name_raw = \"raw_files\"\n",
    "volume_name_tmp = \"tmp\"\n",
    "\n",
    "# \uD83D\uDD17 Repositorio GitHub (cambia si quieres usar otro)\n",
    "github_user = \"dancifuentesperu\"\n",
    "repo_name = \"databricks_files\"\n",
    "branch = \"main\"\n",
    "\n",
    "# \uD83D\uDD27 Construir paths\n",
    "volume_path = f\"/Volumes/{catalog_name}/{schema_name_raw}/{volume_name_tmp}\"\n",
    "dbfs_path = f\"dbfs:{volume_path}\"\n",
    "\n",
    "# \uD83C\uDF10 GitHub API para listar archivos del repo\n",
    "api_url = f\"https://api.github.com/repos/{github_user}/{repo_name}/git/trees/{branch}?recursive=1\"\n",
    "\n",
    "# \uD83D\uDCE5 Obtener lista de archivos\n",
    "response = requests.get(api_url)\n",
    "response.raise_for_status()\n",
    "tree = response.json().get(\"tree\", [])\n",
    "\n",
    "# \uD83D\uDD01 Descargar y copiar cada archivo al Volume UC\n",
    "for item in tree:\n",
    "    if item[\"type\"] == \"blob\":  # Asegura que es un archivo\n",
    "        file_path = item[\"path\"]\n",
    "        print(f\"\uD83D\uDCC4 Descargando: {file_path}\")\n",
    "        \n",
    "        # Construir URL RAW\n",
    "        raw_url = f\"https://raw.githubusercontent.com/{github_user}/{repo_name}/{branch}/{file_path}\"\n",
    "        \n",
    "        # Descargar contenido del archivo\n",
    "        r = requests.get(raw_url)\n",
    "        if r.status_code != 200:\n",
    "            print(f\"❌ Error al descargar: {raw_url}\")\n",
    "            continue\n",
    "\n",
    "        # Guardar temporalmente en /Volumes/{catalog_name}/{schema_name_raw}/{volume_name_tmp}\n",
    "        tmp_filename = os.path.basename(file_path)\n",
    "        local_tmp_path = f\"/Volumes/{catalog_name}/{schema_name_raw}/{volume_name_tmp}/{tmp_filename}\"\n",
    "        with open(local_tmp_path, \"wb\") as f:\n",
    "            f.write(r.content)\n",
    "\n",
    "        # Subir al Volume UC (manteniendo la ruta del archivo)\n"
   ]
  },
  {
   "cell_type": "code",
   "execution_count": 0,
   "metadata": {
    "application/vnd.databricks.v1+cell": {
     "cellMetadata": {
      "byteLimit": 2048000,
      "rowLimit": 10000
     },
     "inputWidgets": {},
     "nuid": "7d1d1ea4-35b5-4351-8c45-c2ed2206f59f",
     "showTitle": false,
     "tableResultSettingsMap": {},
     "title": ""
    }
   },
   "outputs": [
    {
     "output_type": "stream",
     "name": "stdout",
     "output_type": "stream",
     "text": [
      "Copiando flights.parquet...\nCopiando titanic.parquet...\n"
     ]
    }
   ],
   "source": [
    "# Variables\n",
    "catalog_name        = \"integration_catalog\"\n",
    "schema_name_raw     = \"raw_files\"\n",
    "volume_name_raw     = \"tmp\"       # Volumen origen\n",
    "volume_name_target  = \"files\"   # Volumen destino (ajusta si es otro)\n",
    "\n",
    "# Rutas de origen y destino\n",
    "source_volume_path = f\"/Volumes/{catalog_name}/{schema_name_raw}/{volume_name_raw}/\"\n",
    "target_volume_path = f\"/Volumes/{catalog_name}/{schema_name_raw}/{volume_name_target}/\"\n",
    "\n",
    "# Listar archivos y copiar solo los .parquet\n",
    "files = dbutils.fs.ls(source_volume_path)\n",
    "\n",
    "for file in files:\n",
    "    if file.name.endswith(\".parquet\"):\n",
    "        src = f\"{source_volume_path}{file.name}\"\n",
    "        dst = f\"{target_volume_path}{file.name}\"\n",
    "        print(f\"Copiando {file.name}...\")\n",
    "        dbutils.fs.cp(src, dst)"
   ]
  }
 ],
 "metadata": {
  "application/vnd.databricks.v1+notebook": {
   "computePreferences": null,
   "dashboards": [],
   "environmentMetadata": {
    "base_environment": "",
    "environment_version": "2"
   },
   "inputWidgetPreferences": null,
   "language": "python",
   "notebookMetadata": {
    "pythonIndentUnit": 4
   },
   "notebookName": "1.Files",
   "widgets": {}
  },
  "language_info": {
   "name": "python"
  }
 },
 "nbformat": 4,
 "nbformat_minor": 0
}